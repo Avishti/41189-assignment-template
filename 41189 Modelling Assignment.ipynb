{
 "cells": [
  {
   "cell_type": "markdown",
   "metadata": {
    "toc-hr-collapsed": false
   },
   "source": [
    " **41189 Modelling Assignment — Group 3**\n",
    " \n",
    " Topic: Strategies to contain COVID-19, Political elections, etc\n",
    " \n",
    " Group members:\n",
    " \n",
    "- Avishti Sharma (13910310)\n",
    "- Samhitha Rallapalli (13922380 )\n",
    "- Srinitya Krishna (13922341 )\n",
    "- Chandra Sri Maddali (13957865)\n"
   ]
  },
  {
   "cell_type": "markdown",
   "metadata": {
    "toc-hr-collapsed": false
   },
   "source": [
    "# Introduction"
   ]
  },
  {
   "cell_type": "markdown",
   "metadata": {},
   "source": [
    "## State the problem, why it is important/relevant to you and/or more broadly to society"
   ]
  },
  {
   "cell_type": "markdown",
   "metadata": {},
   "source": [
    "Technological advancement in developing countries has been limited due to the amount of resources\n",
    "available. This places a disadvantage on those affected, to have a lack of education. Globally, this is a known issue as compared to developed countries’ education systems, the developing have poorer infrastructure, limited resources to facilitate people to study, which in turn results in fewer opportunities. This is an important issue in society today as education has the power to broaden our understanding and perspectives, and to change and prepare people for the ever-changing world around them. Education is relevant in many communities today as it reduces the risk of poverty, improves productivity and education, gains critical thinking and analysis skills, and people have a greater sense of discipline (UOP, 2019). "
   ]
  },
  {
   "cell_type": "markdown",
   "metadata": {
    "toc-hr-collapsed": false
   },
   "source": [
    "# Context, background information, justification"
   ]
  },
  {
   "cell_type": "markdown",
   "metadata": {},
   "source": [
    "## Research and review literature, news, digital media, drivers and how the problem is being addressed by academia, industry, government, etc."
   ]
  },
  {
   "cell_type": "markdown",
   "metadata": {},
   "source": [
    "![Rich Picture](Figures/richPicture.png)"
   ]
  },
  {
   "cell_type": "markdown",
   "metadata": {},
   "source": [
    "UNICEF: \n",
    "\n",
    "The United Nations International Children’s Emergency Fund (UNICEF) was created in 1946 to assist children in rural, hard to reach areas or developing countries, to provide emergency services such as healthcare, food, and shelter. Since then, UNICEF have expanded their provisions to assist over 58 million children who do not receive education. When developing countries face war, conflict or other humanitarian disasters, UNICEF steps in. They run programs such as early childhood education in Cambodia. This program is based around pre-school education for children living in poor urban communities, targeting those with disabilities. UNICEF’s program is centred around Early Childhood Education (ECE) to develop a child’s mental and physical well-being and enables those children involved with preparation and initiative to go forward to primary education. ECE Cambodia assists with training teachers and parents so they are able to educate children. UNICEF also has built preschool infrastructure in local communities with chairs, desks, chalk / white boards, and sporting equipment. The aim of these facilities is to increase the number of children who attend ECE, which in turn can expand their knowledge and willingness to continue studying through primary and secondary education (UNICEF Australia, 2019).  "
   ]
  },
  {
   "cell_type": "markdown",
   "metadata": {},
   "source": [
    "Givewell:\n",
    "\n",
    "Givewell is a non-for-profit organisation who assist financially with other organisations and charities. They provide ideas and plan programs and opportunities depending on the scale and scope of the issue being tackled. Their focus is on saving, improving and nurturing life in areas of the globe that are less fortunate with essentials such as education. Some of the ways Givewell addresses the problem of education is through information-based interventions; this includes involvement in demand. Developing countries require certain items to be able to run programs and some countries struggle with supplying these resources. Therefore, Givewell gives funds and equipment to those in need and facilitates scholarship programs, transportation, clothing and uniforms for school, materials like books, pens, and electronic devices. This increases access to education and enhances learning with technological improvements. Givewell also works alongside governments to monitor progress and management of the system. In many cases, decentralised management systems are put in place to measure student progress, teaching performance and the payroll. For low-income countries Givewell has numerous ways to create a positive effect on education. Givewell aims for children and adults to pursue education until they receive a degree. This will ensure long-term productivity and increase the country's economy with positive linear growth. Evidence of this is shown through Givewell’s help with Ghana. With the removal of enrolment fees into primary and secondary education, there is a much higher increase in people attaining their degree and improved standard of living, compared to when enrolment fees are put in place. Education also reduces the risk of violence and conflict within developing areas with less pressure for young girls to be married or paid off to boost girls and women education (GiveWell, n.d). "
   ]
  },
  {
   "cell_type": "markdown",
   "metadata": {},
   "source": [
    "UNESCO:\n",
    "\n",
    "The United Nations Educational, Scientific and Cultural Organization (UNESCO) promotes collaboration between nations through education for peace, justice, and human rights. UNESCO’s education mission, Education for all (EFA) focuses on eradicating poverty and having long-term development in countries without stable education systems. EFA aims to provide education to those in developing countries worldwide from early childhood to adulthood. UNESCO works to provide international help with infrastructure and equipment requirements to supply and maintain high levels of education for all. UNESCO focuses on programs for schools to take part in, such as responding to the changing needs of jobs and research, development of standards and guidelines in relation to legalities, successful policies and practices and technological advancements with government assistance (​ UNESCO, 2011a). There are strategies which\n",
    "UNESCO use to help developing countries with education including, monitoring implementation of programs, developing legal frameworks, initialising global partnerships, and building and strengthening learning institutions. UNESCO also provides free education which promotes lifelong learning and skills development. This also encourages gender equality, empowerment of women, significant decrease in poverty and hunger, reduction in child mortality and growth of sustainable environments (UNESCO, 2011b)."
   ]
  },
  {
   "cell_type": "markdown",
   "metadata": {},
   "source": [
    "Pre-existing Models:\n",
    "\n",
    "The purpose of the New Generation Schools model is primarily to improve the standards and quality of education, specifically STEM, in Cambodia. Governments are partaking in large investments to ensure that the quality and standards of the model are significant. New Generation Schools follow precedents in other countries where some public schools receive greater autonomy from the state to stimulate educational innovation. (KAPE, n.d). Their theory of action states that if teachers undergo professional training, they will develop and strengthen beneficial teaching mechanisms that will ultimately allow students to hone 21st century educational concepts. "
   ]
  },
  {
   "cell_type": "markdown",
   "metadata": {},
   "source": [
    "The Ghana Awareness​ Incentives Demand and Support (AIDS) model​ is used to essentially enhance the level of teaching, learning and research through the incorporation of ICT. GARNET has recognised the various advantages associated with incorporating ICT in education. Primarily, the presence of ICT in education prepares the students/learners for lifelong learning and improves the quality and delivery of education (NoorUl-Amin, 2003). Moreover, the ease and flexibility of obtaining scholarly information is increased with ICT which can ultimately boost students’ academic performance. The AIDS model is a mechanism that is used to promote and increase ICT usage amongst all stakeholders comprising teachers and students. This procedure starts off with Awareness​ towards​ ICT, then the provision of Incentives, ​ following​ Demand​ for​ teachers and lecturers to incorporate ICT into their teaching. After this, Support​ Services will​ be provided for students to learn the ICT. This will ultimately result in an Increase​ in the usage of ICT. (​ Nana Asabere, Gilbert Togo, Amevi Acakpovi, Wisdom Torgby and Kwame Ampadu, 2017)."
   ]
  },
  {
   "cell_type": "markdown",
   "metadata": {},
   "source": [
    "Aid Afghanistan for Education (AAE) is a model created to promote education for women who are not granted access to such rights. Through the initiation of programs including Accelerated Education for Marginalised Women and Girls’ Programme, Vocational training, training, and Civic education; women can obtain sufficient knowledge to complete education that will enable them with employment opportunities. For example, with the Accelerated Education program, women are able to obtain a high school diploma quicker which can allow them to provide for their families and fulfil their duties. There are currently 12 schools situated in 6 provinces. "
   ]
  },
  {
   "cell_type": "markdown",
   "metadata": {},
   "source": [
    "The AIDS model consists of 4 major components which display the link between students and lecturers. The 4 stages include 1. Awareness, 2. Incentives, 3. Demand and 4. Support Services. The 1st stage, Awareness begins with highlighting the importance and benefits of the usage of ICT in education to students and lecturers. The next stage includes incentives being provided to students and teachers to encourage the usage of ICT, these would include increased internet bandwidth or access to computers. These incentives will increase students’ want to use ICT motivation. The equipment of such incentives will resultantly lead to the third stage which is an increase in demand for teachers to incorporate relevant ICT into their teaching, learning and research. Finally, this will conclude with the manifesting of an ICT Support Model to assist both students and teachers in how to operate the model as well as integrate it smoothly into the teachings.  "
   ]
  },
  {
   "cell_type": "markdown",
   "metadata": {},
   "source": [
    "Aid Afghanistan for Education incorporates 4 programs: The Accelerated Education Program, Vocational Trainings, Trainings and Civic Education. The Accelerated Education Program is highly beneficial as it allows women to obtain a high school diploma and complete their education so they can enter the labour market. Despite the formal education system forbidding married Afghanistan women to pursue their education, AAE allows women to fulfil such educational aspirations. These schools do not have the 3-month winter holiday that regular schools do which is highly advantageous as it fastens the entire process, furthermore for safety and health purposes, the classrooms are heated during this time. The first school was built in 2003, and there are currently 12 schools in 6 provinces that are built. "
   ]
  },
  {
   "cell_type": "markdown",
   "metadata": {},
   "source": [
    "Vocational training is provided to women to assist them with the relevant skills that are required for them to work. The vocational training is completed in an office and women are taught English, computer skills, management, accounting as well as leadership skills. It is stated that with the first cohort of women, all 169 students were successfully employed in the workforce. "
   ]
  },
  {
   "cell_type": "markdown",
   "metadata": {},
   "source": [
    "The Teacher training program (training program) creates an interactive class environment for women with the aim of developing beyond the traditional route-learning method. Instead, this program encourages teachers to develop innovative, interactive methods, which would ultimately foster students’ analytical thinking. Workshops currently accommodate 350 teachers however there is large scope to increase the number. According to Aid Afghanistan for Education, their ‘primary focus is to develop​ teachers’ skills on various teaching methods, educational philosophies as well as familiarising teachers with psychological principles behind children and adult’s learning.” The workshops provide extensive training on a wide range of teaching methods and lesson plans such as brainstorms, case studies etc. This will not only enhance communication between teachers and students but also create an enjoyable learning environment."
   ]
  },
  {
   "cell_type": "markdown",
   "metadata": {},
   "source": [
    "Civic education is provided by AAE to ensure that women are taught about democracy, equality, and rights for marginalised women."
   ]
  },
  {
   "cell_type": "markdown",
   "metadata": {},
   "source": [
    "Regarding the New Generation Schools program, the action plan is separated into two key steps: \n",
    "System and culture of teacher professionalism\n",
    "This can be categorised into four core principles which are operational autonomy, rationalised\n",
    "resource allocation, accountability & accreditation, and high-quality development.\n",
    "   \t High professional standards: \n",
    "NGS places high standards for their lecturers and teachers. It is believed that excessive corruption at the school level refrains schools from enhancing their learning goals. NGS reform aims to minimise the hazard through the creation of certain expectations on the level of professionalism with the school\n",
    "environment, and specifically teachers. A school’s warrant will be received depending on criteria\n",
    "  \ta) “(1) Private tutoring abolished”\n",
    "b)\t“(2) Practice of mandatory student purchases of teacher goods (e.g. study papers, stationery, etc.)\n",
    "abolished” (Ministry of Education, 2016a, b).\n",
    "c) \tOperational autonomy\n",
    "The NGS school-based staff will have the opportunity to possess full autonomy over their schools if they can validate the methods they will utilise to ‘promote innovation and increase educational\n",
    "quality.\n",
    "d)\tRationalised resource allocation\n",
    "NGS must establish a rationalised resource allocation framework. They will receive financial aid to increase ease and likeliness of fulfilling goals. To successfully implement this plan, the funds\n",
    "obtained must be cautiously used. \n",
    "e) \tAccountability and accreditation\n",
    "The professional standards and school-level autonomy must be followed by stringent accountability necessities for NGS warrants. As a mechanism for observing the NGS compliance with\n",
    "warrant details, a national NGS Oversight Board was formed.\n"
   ]
  },
  {
   "cell_type": "markdown",
   "metadata": {},
   "source": [
    "High quality professional development:\n",
    "\n",
    "NGS reform employs numerous modalities to ultimately maintain the provision of extensive training to lecturers and teachers so they can successfully implement 21st century teaching and learning mechanisms. These are: initial training, career planning, mentoring, in-service training, professional\n",
    "learning communities, international study tips and principal support.\n",
    "\n",
    "The three models will be applied in our group’s case as we will draw inspiration from them and implement effective strategies that the models use.  \n"
   ]
  },
  {
   "cell_type": "markdown",
   "metadata": {},
   "source": [
    "## Identify the system + stakeholders. For this, you will need to construct a “rich picture” that captures the essential elements."
   ]
  },
  {
   "cell_type": "markdown",
   "metadata": {},
   "source": [
    "Complex adaptive systems refer to systems in which a perfect comprehension of the individual's parts does not automatically deliver a perfect comprehension of the entire system’s behavioural patterns. Within complex adaptive systems, the entirety is more complex than its elements and it is more complicated and has more meaning in comparison to the aggregate of its parts. These systems relate to a way of thinking about and analysing things through recognising complexity, interrelationships, and patterns instead of focusing on cause and effect. The stakeholders are people who can either affect or be affected by a certain business. Considering the fact that this topic revolves around education in developing countries, the primary stakeholders would refer to students as they are the ones who majorly affected by the modelling, this would be interlinked to their parents who are held responsible for their education. Moreover, teachers will also be affected to perhaps adapt or improve their teaching abilities. Furthermore, government officials, school board members and administrators will also be primary stakeholders in relation to funding and the incorporation of the modelling.  "
   ]
  },
  {
   "cell_type": "markdown",
   "metadata": {},
   "source": [
    "## Identify current models or prevailing frames that are being used to address the problem"
   ]
  },
  {
   "cell_type": "markdown",
   "metadata": {},
   "source": [
    "Educational Models refer to the philosophical foundation circling academic approaches and core beliefs in relation to learning, instruction and content. An educational model is considered both narrower in subject rather than generic philosophies relating to life. It is more general than specific methods utilised in instruction. Developing countries such as Cambodia and Ghana incorporate specific educational models to best suit the needs of the students and governmental standards. "
   ]
  },
  {
   "cell_type": "markdown",
   "metadata": {},
   "source": [
    "In relation to Cambodia, they utilise the New Generation Schools (NGS) educational model to improve the quality and relevance to strengthen the ability of the Cambodian Youth for the 21st century workforce. This specific model targets to develop student’s cognitive competencies through a focus on STEM, ICT, critical thinking skills in addition to interpersonal and intrapersonal competencies. "
   ]
  },
  {
   "cell_type": "markdown",
   "metadata": {},
   "source": [
    "In terms of Ghana, they have integrated the Awareness Incentives Demand and Support (AIDS) educational model in their educational system. This model illustrates how various ICTs can be incorporated within tertiary education to aid effective teaching, learning and research. "
   ]
  },
  {
   "cell_type": "markdown",
   "metadata": {},
   "source": [
    "Afghanistan is noted to one of the countries with educational issues for women on a global spectrum. Aid Afghanistan for Education (AAE) is an educational model to provide learning opportunities for women and girls through the means of their Accelerated​ Education for Marginalized Women and Girls’ programme. Its objective is to provide an opportunity​ for women to complete their education and take part in society and the labour market. This program considers literacy highly significant and focuses on teaching them skills and attributes for employment to support their families. "
   ]
  },
  {
   "cell_type": "markdown",
   "metadata": {},
   "source": [
    "## Discuss how prevailing models/frames are preventing the problem from being fully addressed or solved"
   ]
  },
  {
   "cell_type": "markdown",
   "metadata": {},
   "source": [
    "The New Generation Schools (NGS), the Awareness Incentive Demand and Support (AIDS) models and the Aid Afghanistan​ for Education (AAE) educational models, ​ as discussed earlier aim to improve the quality of education for secondary, tertiary students and women, respectively. Although these prevailing models have shown drastic improvements in the education sector in all three nations; the models still have some flaws that prevent the problem of inadequate access to education in developing countries from being solved. "
   ]
  },
  {
   "cell_type": "markdown",
   "metadata": {},
   "source": [
    "In Cambodia, low teacher quality poses as a challenge for this educational model to be successful to its greatest extent. (Donaher,2020) states as of 2015, Cambodian teachers are more highly educated than in the past, but significant gaps remain in qualifications across levels and between urban and rural areas. This elucidates how the model does not address the inequality between urban and rural areas in terms of the teacher's qualifications. Teacher’s qualifications play an important role in the effectiveness of the education being delivered, therefore a teacher that holds a bachelor’s degree would make a greater impact to the educational model than a teacher who does not hold the necessary qualifications. Furthermore, research highlighted that only 2/3 of Cambodian teachers attained a bachelor's degree and this was primarily in urban areas, whereas the teachers in rural areas only completed their education till grade 9. This shows the inequality experienced by students in rural areas as opposed to students in urban areas through the quality of education received. Although the Ministry of Education in Cambodia has identified and addressed this problem through facilitating workshops that assist teachers through training and monitoring. The​ current model, however, has drawn criticism for not providing broader ongoing capacity development and follow-up for teachers (King, 2017). "
   ]
  },
  {
   "cell_type": "markdown",
   "metadata": {},
   "source": [
    "The NGS program has a strong emphasis on STEM and ICT, therefore the focus of this reform is to equip students with the relevant skills and knowledge that would support students in the 21st century workforce. Although this is a good measure to take in response to the growing IT industries in Cambodia; this reform also limits the student's from choosing their own career pathways. This can be seen as a problem because if a country only relies on one industry for their growth, they are more vulnerable to global economic downturns. "
   ]
  },
  {
   "cell_type": "markdown",
   "metadata": {},
   "source": [
    "Ghana’s ICT educational model (AIDS) focuses on integrating ICT in education for effective teaching, although this model provides better access and quality to education, there are barriers to this model that prevent it from fully solving the issue of lack of education in developing countries. To sustain a reliable ICT infrastructure in a developing country like Ghana, investments are prerequisites. However, with the government dedicating most of their budget to other sectors such as health especially during the COVID-19 pandemic, investments in education and ICT infrastructure have declined. With this model being highly reliant on funding, without adequate resources it will not be able to operate to its extent. Furthermore, some buildings within Ghana have not been constructed for installing Wi-Fi devices (Rabah, 2015), due to this limitation the development of an ICT educational model is still a challenge. Another limitation that prevents the problem from being addressed through this model is that current lecturers are still developing their knowledge on how to incorporate ICT within their teaching. Due to the constant advancement of technology, some lecturers do not have adequate skills necessary to operate new technology (Bingimlas, 2009). This elucidates how that although the model does improve educational quality within Ghana it does not address other primary concerns such as providing the right training for the teaching staff to incorporate ICT within the educational system. "
   ]
  },
  {
   "cell_type": "markdown",
   "metadata": {},
   "source": [
    "Although the AAE model has shown promising results since their initiation in Afghanistan; there are still some problems in the model that do not allow for the issue of unequal access to education in developing countries to be resolved. The COVID-19 pandemic has proved a challenge for the AAE program to continue its operations and it is estimated that 8.7 million children were not attending school. Although the education ministry in Afghanistan instructed the children to continue their education at home, most of the population working with the AAE program are either refugees or displaced families. Therefore, this is a challenge for most families as they did not have the resources to access these education programs from home.\n",
    "Not being able to provide the right resources for children during unprecedented circumstances is one of the problems with this model and should be addressed so the education of children is not disrupted in the future. "
   ]
  },
  {
   "cell_type": "markdown",
   "metadata": {
    "toc-hr-collapsed": false
   },
   "source": [
    "# Conceptual Models"
   ]
  },
  {
   "cell_type": "markdown",
   "metadata": {},
   "source": [
    "## Based on your self-study of the supermarket of models, explain the three models that you have chosen to look at the problem"
   ]
  },
  {
   "cell_type": "markdown",
   "metadata": {},
   "source": [
    "The study of the supermarket of models includes a range of diverse models which are used to describe, illustrate and assist with real-life issues. These issues can utilise models to assist with decision making and improving the state of the problem. The issue of Education can use 3 different models studied in the supermarket of models including, but not limited to:\n",
    "(1) Rule-Based Models\n",
    "(2) Schelling’s Segregation Model,\n",
    "(3) Axelrod’s culture model "
   ]
  },
  {
   "cell_type": "markdown",
   "metadata": {},
   "source": [
    "Rule Based Models:\n",
    "Rule based models are a part of the “modelling of people” within the supermarket of models. Rule Based primarily uses psychology to learn and understand why people follow and choose to go with or against the rules. These rules consist of societal values and beliefs, which differ from person to person. The model will use these rules to create circumstances and analysis to predict how they will behave. Rule Based models can be influenced by a single or multiple agents. Due to these agents, the types of models can either be fixed or adaptive. A fixed Rule Based model has people that follow rules to get to the end result in the quickest and most efficient way possible. On the other hand, an adaptive model shows people taking a different approach where they trial and error to find the most effective way to complete a task. An adaptive Rule Based model usually has one person watching another person, then from personal judgement, they will choose whether to take the same method, adjust to better fit their needs or try a new approach entirely. Many times Rule based models have shown to have complex outcomes. This can be due to external factors out of a computer/simulations control. For this, there is a level of error when using the Rule Based model (41189 Introduction to Human-centred Complex Systems, n.d -a)."
   ]
  },
  {
   "cell_type": "markdown",
   "metadata": {},
   "source": [
    "Segregation Models:\n",
    "Schelling’s Segregation Model focuses on individuals' tendencies. It is a model that is used to study dynamics within a population to test for commonalities. Segregation model is based around searching for a tolerance within two different groups being sampled and tested to see whether or not a critical level of tolerance exists. Tolerance alludes to the idea of both groups staying together and their ability to adapt. Conditions are tried to represent real-world situations. The Segregation model also looks at interactions between the two sample groups for theoretical importance rather than applied (Hatna & Benenson, 2010). This agent-based model is known to be one of the most primitive representations of the science behind residential segregation as it explains how one’s judgement and impressions towards contrast can result in segregating.  In terms of the initial model, particular agents reside on the cells in a rectangular-shaped region however such cells can take up merely one agent. These agents are able to move nearby based on the “fraction of friends”, which are essentially the agents that belong to the same group.  The Segregation model's basic assumption is: “an agent, located in the center of a neighborhood where the fraction of friends f is less than a predefined tolerance threshold F (i.e., f < F), will try to relocate to a neighborhood for which the fraction of friends is at least f (i.e., f ≥ F) (Schelling 1978 p. 148).”"
   ]
  },
  {
   "cell_type": "markdown",
   "metadata": {},
   "source": [
    "Axelrod’s Culture Model:\n",
    "Axelrod's Culture Model uses coordination games to investigate the behaviour of different groups and people via features and their associated traits. The model uses a set of features to test whether people have similar or very different features from others. The culture model works by having many different squares on one grid. Each of the squares refers to the other squares around them. This square will then choose whether or not to change what they are doing to match their neighbouring square. If the square choses to do so, then a random feature is changed but if they do not then the algorithm will show that the unchanged square is very different to the other squares, thus no interactions. By understanding the people around an individual, Axelrod's Culture Model will give insights into how traits and features can impact on how an individual acts within a society l (41189 Introduction to Human-centred Complex Systems, n.d -b)."
   ]
  },
  {
   "cell_type": "markdown",
   "metadata": {},
   "source": [
    "## Explain how each of the three models works (brief) and how it will be applied in your case."
   ]
  },
  {
   "cell_type": "markdown",
   "metadata": {},
   "source": [
    "Rule based Models:\n",
    "    \n",
    "Rule based models can range from simple to complex depending on the situation. Education in developing countries can use a rule based model to create an environment where people study from childhood, instead of starting later. A reputation for communities such as those in Afghanistan and Cambodia could potentially use this kind of model to their advantage. The rule based model is purely based on other people's behaviour and attitude towards a certain issue. Education can benefit greatly when started from a young age as children can adjust easier to the condition and schedules of school, whereas compared to those children who start studying at a later age and miss out crucial aspects of basic learning. A rule based model of a mass majority of children who start school at the age of 5 or 6, will allow for an adaptive, evolutionary, rule-based model. This way, developing countries can improve the issues surrounding education as decisions to study will be based on those around them, instead of choosing not to educate. "
   ]
  },
  {
   "cell_type": "markdown",
   "metadata": {},
   "source": [
    "Segregation Model:\n",
    "    \n",
    "The segregation model can be used to map out the difference between those who choose to educate during childhood, compared to those who choose not too. The model can also be used to show evidence and possible reasons about how and why some are better off who study compared to those who do not. When analysing the two groups; study and non-study, an outcome can provide what proportion of societies in specific communities or developed and developing countries benefit from education or not. This can give the government or organisations who assist with Afghanistan and Cambodia an idea of what they can do to improve the current situations, if incentives make a difference and what works best for them. The segregation model also requires agents to be identified which will help illustrate what factors and conditions developing countries struggle with in relation to education. This can include experience, understanding, knowledge, benefits, resources or finance. "
   ]
  },
  {
   "cell_type": "markdown",
   "metadata": {},
   "source": [
    "Axelrod’s culture Model:\n",
    "    \n",
    "A large component of developing countries is culture. Culture can influence the reasons for those countries with poorer education standards compared to other countries and this should be acknowledged. With Axelrod’s culture model, we can use coordination games to test a set of traits and ideologies of a group of people or an individual about why they act a certain way. This model can assist with understanding how culture and education coincide and coordinate with each other and perhaps to find out how much this benefits societies in developing countries. When someone is very different from yourself, many people choose to not follow or interact with them. This principle can be applied to the issue around education to collect evidence that culture can differentiate one from studying and one not. "
   ]
  },
  {
   "cell_type": "markdown",
   "metadata": {},
   "source": [
    "## Describe any data sources (real or hypothetical) that are needed to construct the three models. Use illustrative drawings and diagrams where possible"
   ]
  },
  {
   "cell_type": "markdown",
   "metadata": {},
   "source": [
    "The methodology implemented in the AIDS model in Ghana was a quantitative approach, which means data was collected for statistical studies to present the model. The questionnaire developed consisted of open and closed ended questions without the inclusion of any personal questions. However, despite this the answers gathered from these questions still presented the students’ and teachers’ own beliefs with regards to education and technology, highlighting the validity and reliability of the data collected. The participants considered in the study were taken from Accra Technical University which is a tertiary institution that offers part-time and full-time Higher National Diploma (HND) and Degree programmes (Asabere et al., 2017). Full time students were surveyed as opposed to part time because they make up most of the population and they stay on campus for much of the time. 30 students and 4 lecturers were taken from 3 schools within the university as the sample size. Altogether 90 students and 12 lecturers were surveyed to gather data for the construction of the AIDS model. There was a 90% response rate from students and 70.5% response rate from the lecturers, highlighting they had enough data sources to construct their model. "
   ]
  },
  {
   "cell_type": "markdown",
   "metadata": {},
   "source": [
    "The NGS reform was heavily influenced by the international school-based management (SBM) movement. The New​ Generation Schools originated in 2011 with the Beacon School Initiative (BSI) pilot project funded by an Australian development agency and implemented by the Cambodian education non-profit Kampuchean Action for Primary Education (KAPE) (Bredenberg, 201​ 8)​ . With the initiation of this pilot project, a lot of data was collected beforehand, this includes the effectiveness of the current education model, the quality of education and teachers as well as school retention rates. All these were taken into consideration to construct the NGS model and improvements were made accordingly. "
   ]
  },
  {
   "cell_type": "markdown",
   "metadata": {},
   "source": [
    "For the AAE educational model, the evaluation team took a mixed method approach for data collection. Case study sites were divided between “deep” case studies which relied on primary data collection of both quantitative and qualitative methods while “light” case study sites only applied quantitative surveys (Jantzi et al., 2019). A total of 894 people were interviewed either individually or in groups during the initial stages of data collection. This included 675 surveys, 132 interviews with the key stakeholders, 62 provincial level interviews and 45 region (Kabul) based interviews. Overall, all three models used a combination of both qualitative and quantitative methods for their data collection, this proved helpful for the construction of the models.  "
   ]
  },
  {
   "cell_type": "markdown",
   "metadata": {
    "toc-hr-collapsed": false
   },
   "source": [
    "# Implementation"
   ]
  },
  {
   "cell_type": "markdown",
   "metadata": {},
   "source": [
    "## Describe the mathematical and/or statistical implementation of your three models. This should be done using Python code."
   ]
  },
  {
   "cell_type": "code",
   "execution_count": null,
   "metadata": {},
   "outputs": [],
   "source": []
  },
  {
   "cell_type": "code",
   "execution_count": null,
   "metadata": {},
   "outputs": [],
   "source": []
  },
  {
   "cell_type": "code",
   "execution_count": null,
   "metadata": {},
   "outputs": [],
   "source": []
  },
  {
   "cell_type": "markdown",
   "metadata": {
    "toc-hr-collapsed": false
   },
   "source": [
    "# Scenario analysis, sensitivity + uncertainty evaluation"
   ]
  },
  {
   "cell_type": "markdown",
   "metadata": {},
   "source": [
    "## Establish baseline parameter sets and or configuration for output scenarios"
   ]
  },
  {
   "cell_type": "code",
   "execution_count": null,
   "metadata": {},
   "outputs": [],
   "source": []
  },
  {
   "cell_type": "code",
   "execution_count": null,
   "metadata": {},
   "outputs": [],
   "source": []
  },
  {
   "cell_type": "code",
   "execution_count": null,
   "metadata": {},
   "outputs": [],
   "source": []
  },
  {
   "cell_type": "markdown",
   "metadata": {},
   "source": [
    "## Perform a basic sensitivity analysis, i.e., identify with parameters are most sensitive/insensitive for the outputs"
   ]
  },
  {
   "cell_type": "code",
   "execution_count": null,
   "metadata": {},
   "outputs": [],
   "source": []
  },
  {
   "cell_type": "code",
   "execution_count": null,
   "metadata": {},
   "outputs": [],
   "source": []
  },
  {
   "cell_type": "code",
   "execution_count": null,
   "metadata": {},
   "outputs": [],
   "source": []
  },
  {
   "cell_type": "markdown",
   "metadata": {
    "toc-hr-collapsed": false
   },
   "source": [
    "# Proposed solutions"
   ]
  },
  {
   "cell_type": "markdown",
   "metadata": {},
   "source": [
    "## Discuss potential portfolio of solutions based on your previous analysis\n"
   ]
  },
  {
   "cell_type": "code",
   "execution_count": null,
   "metadata": {},
   "outputs": [],
   "source": []
  },
  {
   "cell_type": "code",
   "execution_count": null,
   "metadata": {},
   "outputs": [],
   "source": []
  },
  {
   "cell_type": "code",
   "execution_count": null,
   "metadata": {},
   "outputs": [],
   "source": []
  },
  {
   "cell_type": "markdown",
   "metadata": {
    "toc-hr-collapsed": false
   },
   "source": [
    "# Reflection on group + individual approach to assignment"
   ]
  },
  {
   "cell_type": "markdown",
   "metadata": {},
   "source": [
    "## Each student should discuss their experiences about working on the project. The document should be no more than 1000 words per group member. It should discuss following key aspects:\n",
    "\n",
    "- Your contribution in the project\n",
    "- Other group members’ contributions\n",
    "- What positives do you take from this project? What did you learn from this project?\n",
    "- What challenges did you face in this project and how you overcame those?\n",
    "- If you are faced with dealing with a real-world problem and need to do some modelling, how would you determine which modelling approach to take. Justify your response."
   ]
  },
  {
   "cell_type": "markdown",
   "metadata": {},
   "source": [
    "### Group member 1 reflection"
   ]
  },
  {
   "cell_type": "code",
   "execution_count": null,
   "metadata": {},
   "outputs": [],
   "source": []
  },
  {
   "cell_type": "markdown",
   "metadata": {},
   "source": [
    "### Group member 2 reflection"
   ]
  },
  {
   "cell_type": "code",
   "execution_count": null,
   "metadata": {},
   "outputs": [],
   "source": []
  },
  {
   "cell_type": "markdown",
   "metadata": {},
   "source": [
    "### Group member 3 reflection"
   ]
  },
  {
   "cell_type": "code",
   "execution_count": null,
   "metadata": {},
   "outputs": [],
   "source": []
  },
  {
   "cell_type": "markdown",
   "metadata": {},
   "source": [
    "### Group member 4 reflection"
   ]
  },
  {
   "cell_type": "code",
   "execution_count": null,
   "metadata": {},
   "outputs": [],
   "source": []
  }
 ],
 "metadata": {
  "kernelspec": {
   "display_name": "Python 3",
   "language": "python",
   "name": "python3"
  },
  "language_info": {
   "codemirror_mode": {
    "name": "ipython",
    "version": 3
   },
   "file_extension": ".py",
   "mimetype": "text/x-python",
   "name": "python",
   "nbconvert_exporter": "python",
   "pygments_lexer": "ipython3",
   "version": "3.6.4"
  },
  "toc-autonumbering": true
 },
 "nbformat": 4,
 "nbformat_minor": 4
}
